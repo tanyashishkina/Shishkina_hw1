{
  "nbformat": 4,
  "nbformat_minor": 0,
  "metadata": {
    "kernelspec": {
      "display_name": "Python 3 (ipykernel)",
      "language": "python",
      "name": "python3"
    },
    "language_info": {
      "codemirror_mode": {
        "name": "ipython",
        "version": 3
      },
      "file_extension": ".py",
      "mimetype": "text/x-python",
      "name": "python",
      "nbconvert_exporter": "python",
      "pygments_lexer": "ipython3",
      "version": "3.8.6"
    },
    "colab": {
      "name": "Шишкина_Татьяна_HW1.ipynb",
      "provenance": []
    }
  },
  "cells": [
    {
      "cell_type": "markdown",
      "metadata": {
        "id": "1BZBCk5mmB-0"
      },
      "source": [
        "# Домашнее задание №1 (25 баллов)\n",
        "\n",
        "## дедлайн 19 сентября 23:59\n",
        "\n",
        "\n",
        "\n",
        "Цель:\n",
        "\n",
        "Отработать навыки работы с основными типами данных в Python."
      ]
    },
    {
      "cell_type": "code",
      "metadata": {
        "id": "4MnLXJ5KVv3F"
      },
      "source": [
        ""
      ],
      "execution_count": null,
      "outputs": []
    },
    {
      "cell_type": "markdown",
      "metadata": {
        "id": "LZn14yIamB-4"
      },
      "source": [
        "**NB!** Задания необходимо выполнять таким образом, что переменную/-ые можно было заменить на схожее слово/число/текст/список/и т.д., при этом задание все равно выполнялось бы верно."
      ]
    },
    {
      "cell_type": "markdown",
      "metadata": {
        "id": "rXWlFw-wmB-5"
      },
      "source": [
        "_Оценку 9 или 10 можно получить, если выполнить домашнее задание до 16 сентября 18:10 (бонусное задание в т.ч.)_"
      ]
    },
    {
      "cell_type": "markdown",
      "metadata": {
        "id": "Zz7zK33DmB-6"
      },
      "source": [
        "### Часть 1. Переменные, арифметические операции (7 баллов)"
      ]
    },
    {
      "cell_type": "markdown",
      "metadata": {
        "id": "-p1ThRvGmB-7"
      },
      "source": [
        "1. (1 балл) Создайте две переменные $a$ и $b$ и присвойте им значение $91$ и $-12$, соответственно.\n",
        "Какой тип имеют эти переменные?"
      ]
    },
    {
      "cell_type": "code",
      "metadata": {
        "id": "pEXH413VmB-7",
        "colab": {
          "base_uri": "https://localhost:8080/"
        },
        "outputId": "670bf372-5516-4fef-9847-c4d0a096b4d6"
      },
      "source": [
        "a = 91\n",
        "b = -12\n",
        " \n",
        "print(type(a))\n",
        "print(type(b))"
      ],
      "execution_count": null,
      "outputs": [
        {
          "output_type": "stream",
          "name": "stdout",
          "text": [
            "<class 'int'>\n",
            "<class 'int'>\n"
          ]
        }
      ]
    },
    {
      "cell_type": "markdown",
      "metadata": {
        "id": "7uvknJ4xmB-9"
      },
      "source": [
        "2. (1 балл) Посчитайте:\n",
        "\n",
        "    * разность a - b\n",
        "\n",
        "    * сумму a + b"
      ]
    },
    {
      "cell_type": "code",
      "metadata": {
        "id": "opg4FgsCmB--",
        "colab": {
          "base_uri": "https://localhost:8080/"
        },
        "outputId": "91e375b7-1ef9-47f9-f756-8d56c977f15c"
      },
      "source": [
        "print(a - b)\n",
        "print(a + b)"
      ],
      "execution_count": null,
      "outputs": [
        {
          "output_type": "stream",
          "name": "stdout",
          "text": [
            "103\n",
            "79\n"
          ]
        }
      ]
    },
    {
      "cell_type": "markdown",
      "metadata": {
        "id": "FLU2CwhwmB-_"
      },
      "source": [
        "3. (1 балл) Вводится целое неотрицательное число $N$. Выведите $2$ в степени $N$."
      ]
    },
    {
      "cell_type": "code",
      "metadata": {
        "id": "8vymxnC6mB_B",
        "colab": {
          "base_uri": "https://localhost:8080/"
        },
        "outputId": "702d92f3-5fae-4531-dd3d-303d67cedf1a"
      },
      "source": [
        "import math \n",
        "N = int(input(\"N: \"))\n",
        "\n",
        "print(math.pow(2,N))"
      ],
      "execution_count": null,
      "outputs": [
        {
          "output_type": "stream",
          "name": "stdout",
          "text": [
            "N: 5\n",
            "32.0\n"
          ]
        }
      ]
    },
    {
      "cell_type": "markdown",
      "metadata": {
        "id": "lDcZPjHHmB_B"
      },
      "source": [
        "4. (1 балл) Пётр Иванович хочет испечь большую печеньку. У него есть форма для выпечки диаметром $45$ сантиметров и высотой $5$ сантиметров. Посчитайте, какого объема будет печенька Петра Ивановича. Результат положите в переменную `area_of_circle`"
      ]
    },
    {
      "cell_type": "code",
      "metadata": {
        "id": "qv8YxoZomB_B",
        "colab": {
          "base_uri": "https://localhost:8080/"
        },
        "outputId": "1d8bffff-c440-49aa-a2be-e117c395cf5a"
      },
      "source": [
        "import math\n",
        "\n",
        "d = 45\n",
        "r = d / 2 \n",
        "h = 5\n",
        "\n",
        "area_of_circle = math.pi * math.pow(r, 2) * h\n",
        "print(area_of_circle) "
      ],
      "execution_count": null,
      "outputs": [
        {
          "output_type": "stream",
          "name": "stdout",
          "text": [
            "7952.156404399164\n"
          ]
        }
      ]
    },
    {
      "cell_type": "markdown",
      "metadata": {
        "id": "Kd1PBPY3mB_C"
      },
      "source": [
        "5. (1 балл) Белочки делят между собой орешки. Если орешки поровну не делятся, остаток остается в дупле. Напишите программу, которая принимает количество белочек и орешков, а на выходе дает число орешков, которое получит каждая белочка."
      ]
    },
    {
      "cell_type": "code",
      "metadata": {
        "id": "r6WzKLwHmB_C",
        "colab": {
          "base_uri": "https://localhost:8080/"
        },
        "outputId": "1f0da32f-edfb-45ba-c197-be1bdfb73f2f"
      },
      "source": [
        "x = int(input(\"Белочки \"))\n",
        "y = int(input(\"Орешки \"))\n",
        "\n",
        "print(y // x)"
      ],
      "execution_count": null,
      "outputs": [
        {
          "output_type": "stream",
          "name": "stdout",
          "text": [
            "белочки 7\n",
            "орешки 7\n",
            "1\n"
          ]
        }
      ]
    },
    {
      "cell_type": "markdown",
      "metadata": {
        "id": "Y6jGfqvHmB_D"
      },
      "source": [
        "6. (1 балл) Напишите программу, которая считывает два целых числа $a$ и $b$ и выводит наибольшее значение из них (без использования условий)."
      ]
    },
    {
      "cell_type": "code",
      "metadata": {
        "id": "b23VAe67mB_D",
        "colab": {
          "base_uri": "https://localhost:8080/"
        },
        "outputId": "f4b86fd6-f465-40f9-a27c-8de85999e02f"
      },
      "source": [
        "a = int(input(\"a: \"))\n",
        "b = int(input(\"b: \"))\n",
        "\n",
        "print(max(a, b))"
      ],
      "execution_count": null,
      "outputs": [
        {
          "output_type": "stream",
          "name": "stdout",
          "text": [
            "a: 6\n",
            "b: 9\n",
            "9\n"
          ]
        }
      ]
    },
    {
      "cell_type": "markdown",
      "metadata": {
        "id": "zWtzW4jDmB_D"
      },
      "source": [
        "7. (1 балла) Получите с помощью функции `input()` строку с числом и приведите число в тип `float`. Полученное число присвойте переменной `float_number`"
      ]
    },
    {
      "cell_type": "code",
      "metadata": {
        "id": "eWjtF4OtmB_D",
        "colab": {
          "base_uri": "https://localhost:8080/"
        },
        "outputId": "d297aa2e-57bd-446b-d7a2-38842cd9bcef"
      },
      "source": [
        "float_number = input()\n",
        "float(float_number)"
      ],
      "execution_count": 76,
      "outputs": [
        {
          "name": "stdout",
          "output_type": "stream",
          "text": [
            "6\n"
          ]
        },
        {
          "output_type": "execute_result",
          "data": {
            "text/plain": [
              "6.0"
            ]
          },
          "metadata": {},
          "execution_count": 76
        }
      ]
    },
    {
      "cell_type": "markdown",
      "metadata": {
        "id": "5fQg1mzemB_E"
      },
      "source": [
        "### Часть 2. Строки (5 баллов)"
      ]
    },
    {
      "cell_type": "markdown",
      "metadata": {
        "id": "S8061OxKmB_E"
      },
      "source": [
        "8. (1 балл) Используйте на переменную со значением hello методы строк:\n",
        "\n",
        "`.capitalize()`\n",
        "\n",
        "`.lower()`\n",
        "\n",
        "`.upper()`\n",
        "\n",
        "Опишите что они делают в комментарии (пишите ответ как комментарий к пустой строке)"
      ]
    },
    {
      "cell_type": "code",
      "metadata": {
        "id": "m1gi2raAmB_E",
        "colab": {
          "base_uri": "https://localhost:8080/",
          "height": 70
        },
        "outputId": "c29da307-6095-4e68-be81-f3c80ffa048c"
      },
      "source": [
        "x = \"hello\" \n",
        "\n",
        "print(x.capitalize())\n",
        "#Метод позволяет написать значение x с заглавной буквы \n",
        "print(x.lower())\n",
        "#Метод позволяет написать значение х, где все символы в нижнем регистре\n",
        "x.upper()\n",
        "#Метод позволяет написать значение х, где все символы в верхнем регистре "
      ],
      "execution_count": null,
      "outputs": [
        {
          "output_type": "stream",
          "name": "stdout",
          "text": [
            "Hello\n",
            "hello\n"
          ]
        },
        {
          "output_type": "execute_result",
          "data": {
            "application/vnd.google.colaboratory.intrinsic+json": {
              "type": "string"
            },
            "text/plain": [
              "'HELLO'"
            ]
          },
          "metadata": {},
          "execution_count": 15
        }
      ]
    },
    {
      "cell_type": "markdown",
      "metadata": {
        "id": "BdWRgXKpmB_F"
      },
      "source": [
        "9. (1 балл) Создайте две переменные типа `str` (строка) со значениями hello и world (например s1 и s2). Сложите их и напечатайте результат."
      ]
    },
    {
      "cell_type": "code",
      "metadata": {
        "id": "YJhjtMwBmB_F",
        "colab": {
          "base_uri": "https://localhost:8080/"
        },
        "outputId": "580f8693-e0c9-4769-ebd0-f8a53cb6b4bd"
      },
      "source": [
        "s1 = \"hello\"\n",
        "s2 = \"world\"\n",
        "\n",
        "print(s1 + \" \" + s2)"
      ],
      "execution_count": null,
      "outputs": [
        {
          "output_type": "stream",
          "name": "stdout",
          "text": [
            "hello world\n"
          ]
        }
      ]
    },
    {
      "cell_type": "markdown",
      "metadata": {
        "id": "SA3QW6AGmB_F"
      },
      "source": [
        "10. (1 балл)\n",
        "\n",
        "    - Воспользуйтесь функцией `len()` для того чтобы посчитать длину (количество **символов**) детской песни Солнечный круг \n",
        "    - Посчитайте длину (количество символов) в песне Let it be\n",
        "    - Какая из песен длиннее и на сколько **символов**?\n",
        "\n",
        "_Hint: тексты обеих песен приведены ниже._\n",
        "\n",
        "_Hint 2: `len()` это не метод, а функция_"
      ]
    },
    {
      "cell_type": "code",
      "metadata": {
        "id": "5-uezdnhmB_F"
      },
      "source": [
        "sun_circle  = '''Солнечный круг, небо вокруг\n",
        "Это рисунок мальчишки\n",
        "Нарисовал он на листке\n",
        "И подписал в уголке\n",
        "Пусть всегда будет солнце\n",
        "Пусть всегда будет небо\n",
        "Пусть всегда будет мама\n",
        "Пусть всегда буду я\n",
        "Пусть всегда будет солнце\n",
        "Пусть всегда будет небо\n",
        "Пусть всегда будет мама\n",
        "Пусть всегда буду я\n",
        "Милый мой друг, добрый мой друг\n",
        "Людям так хочется мира\n",
        "И в тридцать пять сердце опять\n",
        "Не устаёт повторять\n",
        "Пусть всегда будет солнце\n",
        "Пусть всегда будет небо\n",
        "Пусть всегда будет мама\n",
        "Пусть всегда буду я\n",
        "Пусть всегда будет солнце\n",
        "Пусть всегда будет небо\n",
        "Пусть всегда будет мама\n",
        "Пусть всегда буду я\n",
        "Тише солдат, слышишь солдат\n",
        "Люди пугаются взрывов\n",
        "Тысячи глаз в небо глядят\n",
        "Губы упрямо твердят\n",
        "Пусть всегда будет солнце\n",
        "Пусть всегда будет небо\n",
        "Пусть всегда будет мама\n",
        "Пусть всегда буду я\n",
        "Пусть всегда будет солнце\n",
        "Пусть всегда будет небо\n",
        "Пусть всегда будет мама\n",
        "Пусть всегда буду я\n",
        "Против беды, против войны\n",
        "Станем за наших мальчишек\n",
        "Солнце навек, счастье навек\n",
        "Так повелел человек\n",
        "Пусть всегда будет солнце\n",
        "Пусть всегда будет небо\n",
        "Пусть всегда будет мама\n",
        "Пусть всегда буду я\n",
        "Пусть всегда будет солнце\n",
        "Пусть всегда будет небо\n",
        "Пусть всегда будет мама\n",
        "Пусть всегда буду я'''\n",
        "\n",
        "\n",
        "let_it_be = '''\n",
        "When I find myself in times of trouble, Mother Mary comes to me\n",
        "Speaking words of wisdom, let it be\n",
        "And in my hour of darkness she is standing right in front of me\n",
        "Speaking words of wisdom, let it be\n",
        "Let it be, let it be, let it be, let it be\n",
        "Whisper words of wisdom, let it be\n",
        "And when the broken-hearted people living in the world agree\n",
        "There will be an answer, let it be\n",
        "For though they may be parted, there is still a chance that they will see\n",
        "There will be an answer, let it be\n",
        "Let it be, let it be, let it be, let it be\n",
        "Yeah, there will be an answer, let it be\n",
        "Let it be, let it be, let it be, let it be\n",
        "Whisper words of wisdom, let it be\n",
        "Let it be, let it be, let it be, yeah, let it be\n",
        "Whisper words of wisdom, let it be\n",
        "And when the night is cloudy there is still a light that shines on me\n",
        "Shine until tomorrow, let it be\n",
        "I wake up to the sound of music, Mother Mary comes to me\n",
        "Speaking words of wisdom, let it be\n",
        "Let it be, let it be, let it be, yeah, let it be\n",
        "There will be an answer, let it be\n",
        "Let it be, let it be, let it be, yeah, let it be\n",
        "There will be an answer, let it be\n",
        "Let it be, let it be, let it be, yeah, let it be\n",
        "Whisper words of wisdom, let it be\n",
        "'''"
      ],
      "execution_count": null,
      "outputs": []
    },
    {
      "cell_type": "code",
      "metadata": {
        "id": "efgy27aOmB_G",
        "colab": {
          "base_uri": "https://localhost:8080/"
        },
        "outputId": "778f5363-9de1-4c3f-eb66-81443d13adc9"
      },
      "source": [
        "print(len(sun_circle))\n",
        "print(len(let_it_be))\n",
        "\n",
        "a = len(sun_circle)\n",
        "b = len(let_it_be)\n",
        "\n",
        "if a >= b:\n",
        "    print(\"sun_circle длиннее на\", a - b)\n",
        "\n",
        "else:\n",
        "  print(\"let_it_be длиннее на\", b - a)"
      ],
      "execution_count": null,
      "outputs": [
        {
          "output_type": "stream",
          "name": "stdout",
          "text": [
            "1146\n",
            "1177\n",
            "let_it_be длиннее на 31\n"
          ]
        }
      ]
    },
    {
      "cell_type": "markdown",
      "metadata": {
        "id": "TMfNQBnimB_H"
      },
      "source": [
        "11. (2 балла)\n",
        "\n",
        "    - Чего больше: слов \"Пусть всегда\" в детской песне или слов \"Let it be\" в песне ливерпульской четверки?\n",
        "\n",
        "*Hint: Воспользуйтесь методом `.count()`*\n",
        "\n",
        "*Hint 2: Слова \"Let it be\" встречаются в песне как с заглавной, так и со строчной буквы, учтите это при подсчете*"
      ]
    },
    {
      "cell_type": "code",
      "metadata": {
        "id": "M20HoMm_mB_H",
        "colab": {
          "base_uri": "https://localhost:8080/"
        },
        "outputId": "541627d2-ad61-47f6-e8f5-ffaaa7785f46"
      },
      "source": [
        "a = sun_circle\n",
        "b = let_it_be\n",
        "\n",
        "print(a.count(\"Пусть всегда\"))\n",
        "print(b.count(\"Let it be\") + b.count(\"let it be\"))\n",
        "\n",
        "x = a.count(\"Пусть всегда\")\n",
        "y = b.count(\"Let it be\") + b.count(\"let it be\")\n",
        "\n",
        "if x >= y:\n",
        "  print(\"Слов Пусть всегда больше на\", x - y)\n",
        "else:\n",
        "  print(\"Слов Let it be больше на\", y - x)\n",
        "\n",
        "#здесь очень много переменных, поэтому я погуглила, как еще можно, и сделала второй вариант ниже, но этот решила оставить"
      ],
      "execution_count": 82,
      "outputs": [
        {
          "output_type": "stream",
          "name": "stdout",
          "text": [
            "32\n",
            "41\n",
            "Слов Let it be больше на 9\n"
          ]
        }
      ]
    },
    {
      "cell_type": "code",
      "metadata": {
        "id": "aRwb9fadP_FV",
        "colab": {
          "base_uri": "https://localhost:8080/"
        },
        "outputId": "9b47b65c-238f-419a-b241-d0b4ed5bdbd9"
      },
      "source": [
        "sun_words_count = sun_circle.lower().count(\"пусть всегда\")\n",
        "let_words_count = let_it_be.lower().count(\"let it be\")\n",
        "\n",
        "print(sun_words_count)\n",
        "print(let_words_count)\n",
        "\n",
        "if sun_words_count >= let_words_count:\n",
        "  print(\"Слов Пусть всегда больше на\", sun_words_count - let_words_count)\n",
        "else:\n",
        "  print(\"Слов Let it be больше на\", let_words_count - sun_words_count)"
      ],
      "execution_count": null,
      "outputs": [
        {
          "output_type": "stream",
          "name": "stdout",
          "text": [
            "32\n",
            "41\n",
            "Слов Let it be больше на 9\n"
          ]
        }
      ]
    },
    {
      "cell_type": "markdown",
      "metadata": {
        "id": "_RpGCxj3mB_H"
      },
      "source": [
        "### Часть 3. Условия (5 баллов)"
      ]
    },
    {
      "cell_type": "markdown",
      "metadata": {
        "id": "gwBLQuKJmB_H"
      },
      "source": [
        "12. (1 балл) Дано целое число $x$. Проверить, является ли число положительным."
      ]
    },
    {
      "cell_type": "code",
      "metadata": {
        "id": "4rzLvWy_mB_H",
        "colab": {
          "base_uri": "https://localhost:8080/"
        },
        "outputId": "01623b13-7ccd-4777-aa99-ccbf9bad2f8e"
      },
      "source": [
        "x = int(input())\n",
        "if x > 0:\n",
        "  print(\"True\")\n",
        "else:\n",
        "  print(\"False\")"
      ],
      "execution_count": null,
      "outputs": [
        {
          "output_type": "stream",
          "name": "stdout",
          "text": [
            "-86\n",
            "False\n"
          ]
        }
      ]
    },
    {
      "cell_type": "markdown",
      "metadata": {
        "id": "uFWvoRNEmB_I"
      },
      "source": [
        "13. (1 балл) Дано число $x$  типа `float` (с плавающей запятой). Проверить, является ли это число целым.\n",
        "\n",
        "_Hint: можно загуглить 'преобразование типов, python'_"
      ]
    },
    {
      "cell_type": "code",
      "metadata": {
        "id": "g2IM_prJmB_I",
        "colab": {
          "base_uri": "https://localhost:8080/"
        },
        "outputId": "bc85034b-ab86-49ec-90bc-e7136c4635fa"
      },
      "source": [
        "x = float(input())\n",
        "\n",
        "if x == int(x):\n",
        "  print(\"True\")\n",
        "else:\n",
        "  print(\"False\")"
      ],
      "execution_count": 80,
      "outputs": [
        {
          "output_type": "stream",
          "name": "stdout",
          "text": [
            "5.0\n",
            "True\n"
          ]
        }
      ]
    },
    {
      "cell_type": "markdown",
      "metadata": {
        "id": "vcZ6JpcVmB_I"
      },
      "source": [
        "14. (1 балл) Напишите программу, которая считывает два целых числа $a$ и $b$ и выводит наибольшее значение из них (c использованием условий)."
      ]
    },
    {
      "cell_type": "code",
      "metadata": {
        "id": "q048UQ-JmB_I",
        "colab": {
          "base_uri": "https://localhost:8080/"
        },
        "outputId": "0474213a-7809-4fc1-84fc-e4d0cf944055"
      },
      "source": [
        "a = int(input(\"a: \"))\n",
        "b = int(input(\"b: \"))\n",
        "\n",
        "if a > b:\n",
        "  print(a)\n",
        "else: \n",
        "  print(b)"
      ],
      "execution_count": 81,
      "outputs": [
        {
          "output_type": "stream",
          "name": "stdout",
          "text": [
            "a: 6\n",
            "b: 8\n",
            "8\n"
          ]
        }
      ]
    },
    {
      "cell_type": "markdown",
      "metadata": {
        "id": "K8VW6Bs0mB_I"
      },
      "source": [
        "15. (1 балл) Вася уехал учиться по обмену на один семестр в Италию. Единственный магазин в городе открыт с $6$ до $8$ утра и с $16$ до $17$ вечера (включительно). Вася не мог попасть в магазин уже несколько дней и страдает от голода. Он может прийти в магазин в $X$ часов. Если магазин открыт в $X$ часов, то выведите `True`, а если закрыт - выведите `False`."
      ]
    },
    {
      "cell_type": "code",
      "metadata": {
        "id": "Y48nxNQ0mB_I",
        "colab": {
          "base_uri": "https://localhost:8080/"
        },
        "outputId": "d45ceb25-3ec0-49ce-f5e5-3c23d7078dff"
      },
      "source": [
        "x = int(input())\n",
        "\n",
        "if 6 <= x <= 8:\n",
        "  print(\"True\")\n",
        "elif 16 <= x <= 17:\n",
        "  print(\"True\")\n",
        "else:\n",
        "  print(\"False\")"
      ],
      "execution_count": 84,
      "outputs": [
        {
          "output_type": "stream",
          "name": "stdout",
          "text": [
            "16\n",
            "True\n"
          ]
        }
      ]
    },
    {
      "cell_type": "markdown",
      "metadata": {
        "id": "-InnK0GLmB_J"
      },
      "source": [
        "16. (1 балл) Помогите Даше определить, является ли год с данным номером високосным. Если год является високосным, то выведите `YES`, иначе выведите `NO`. Напомним, что в соответствии с григорианским календарем, год является високосным, если его номер кратен 4, но не кратен 100, а также если он кратен 400."
      ]
    },
    {
      "cell_type": "code",
      "metadata": {
        "id": "SzzJTS-EmB_J",
        "colab": {
          "base_uri": "https://localhost:8080/"
        },
        "outputId": "177cb5a0-ce58-49ec-d249-3d2161cd8c8e"
      },
      "source": [
        "x = int(input(\"Год:\"))\n",
        "\n",
        "if ((x%4 == 0) or (x%400 == 0) and (x%100 != 0)):\n",
        "  print(\"Yes\")\n",
        "else:\n",
        "  print(\"No\")"
      ],
      "execution_count": 83,
      "outputs": [
        {
          "output_type": "stream",
          "name": "stdout",
          "text": [
            "Год:2000\n",
            "Yes\n"
          ]
        }
      ]
    },
    {
      "cell_type": "markdown",
      "metadata": {
        "id": "f4mtffw3mB_J"
      },
      "source": [
        "### Часть 4. Циклы (6 баллов)"
      ]
    },
    {
      "cell_type": "markdown",
      "metadata": {
        "id": "pko9TzIXmB_J"
      },
      "source": [
        "17. (1 балл) Напишите бесконечный цикл (любой)"
      ]
    },
    {
      "cell_type": "code",
      "metadata": {
        "id": "gLKGsTa8mB_J"
      },
      "source": [
        ""
      ],
      "execution_count": null,
      "outputs": []
    },
    {
      "cell_type": "markdown",
      "metadata": {
        "id": "-h3ust4dmB_J"
      },
      "source": [
        "18. (1 балл) Вывести числа от 5 до 20"
      ]
    },
    {
      "cell_type": "code",
      "metadata": {
        "id": "KGbI7mlkmB_J"
      },
      "source": [
        "# your code here"
      ],
      "execution_count": null,
      "outputs": []
    },
    {
      "cell_type": "markdown",
      "metadata": {
        "id": "1qX2tNEdmB_J"
      },
      "source": [
        "19. (1 балл) Вывести все числа от 5 до 20 , кратные 3-м."
      ]
    },
    {
      "cell_type": "code",
      "metadata": {
        "id": "qtN2ECZpmB_K"
      },
      "source": [
        "# your code here"
      ],
      "execution_count": null,
      "outputs": []
    },
    {
      "cell_type": "markdown",
      "metadata": {
        "id": "Pfs3ZBuzmB_K"
      },
      "source": [
        "20. (1 балл) Найти сумму натуральных чисел от 0 до n включительно"
      ]
    },
    {
      "cell_type": "code",
      "metadata": {
        "id": "F933zbG6mB_K"
      },
      "source": [
        "n = 11\n",
        "\n",
        "# your code here"
      ],
      "execution_count": null,
      "outputs": []
    },
    {
      "cell_type": "markdown",
      "metadata": {
        "id": "Tejb6jdumB_K"
      },
      "source": [
        "21. (1 балл) Вводится последовательность цифр. Например `\"126543168714\"`. Найти самую большую цифру, сохранить в переменную `largest_number`, вывести ее значение на экран."
      ]
    },
    {
      "cell_type": "code",
      "metadata": {
        "id": "98j-rp2GmB_K"
      },
      "source": [
        "# your code here"
      ],
      "execution_count": null,
      "outputs": []
    },
    {
      "cell_type": "markdown",
      "metadata": {
        "id": "SfqQonqrmB_K"
      },
      "source": [
        "22. (1 балл) Пользователем вводится строка. Проверить, является ли строка палиндромом без использования срезов и списков (мы их еще не проходили). Записать ответ в булевом типе данных в переменную `is_palindrom`, вывести ее значение на экран."
      ]
    },
    {
      "cell_type": "code",
      "metadata": {
        "id": "kDbNY-bWmB_K"
      },
      "source": [
        "n = 5\n",
        "\n",
        "# your code here"
      ],
      "execution_count": null,
      "outputs": []
    },
    {
      "cell_type": "markdown",
      "metadata": {
        "id": "ykzOQoYamB_K"
      },
      "source": [
        "### Бонусное задание (2 балла):"
      ]
    },
    {
      "cell_type": "markdown",
      "metadata": {
        "id": "Ao9mr74YmB_L"
      },
      "source": [
        "23. (2 балла) \n",
        "\n",
        "В турецком языке все гласные делятся на:\n",
        "\n",
        "негубные:\n",
        "`non_labials = \"aıei\"`\n",
        "\n",
        "губные:\n",
        "`labials = \"ouöü\"`\n",
        "\n",
        "Суть закона гармонии гласных состоит в следующем: все гласные в слове должны быть из одного класса.\n",
        "\n",
        "Вводится слово. Проверьте, подчиняется ли данное слово закону гармонии гласных в турецком языке. Ответ (`True` или `False`) сохранить в переменную rule и вывести ее на экран.\n",
        "\n",
        "Примеры:\n",
        "\n",
        "yaşlıdı (True)\n",
        "\n",
        "yaşlıdü (False)\n",
        "\n",
        "üzgündü (True)\n",
        "\n",
        "üzgündi (False)"
      ]
    },
    {
      "cell_type": "code",
      "metadata": {
        "id": "uD52bBHAmB_L"
      },
      "source": [
        "# your code here"
      ],
      "execution_count": null,
      "outputs": []
    },
    {
      "cell_type": "markdown",
      "metadata": {
        "id": "Z1BkJELmmB_L"
      },
      "source": [
        "#### Напишите ниже вашу обратную связь по домашнему заданию в комментарии. \n",
        "\n",
        "#### Какие задания показались вам самыми сложными / простыми? Что понравилось, а что нет?"
      ]
    },
    {
      "cell_type": "code",
      "metadata": {
        "id": "PJD14Yp_mB_L"
      },
      "source": [
        ""
      ],
      "execution_count": null,
      "outputs": []
    }
  ]
}